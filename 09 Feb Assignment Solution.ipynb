{
 "cells": [
  {
   "cell_type": "markdown",
   "id": "edb6a78b",
   "metadata": {},
   "source": [
    "## Q1, Create a vehicle class with an init method having instance variables as name_of_vehicle, max_speed and average_of_vehicle"
   ]
  },
  {
   "cell_type": "code",
   "execution_count": 8,
   "id": "73329562",
   "metadata": {},
   "outputs": [],
   "source": [
    "class vechile:\n",
    "    \n",
    "    def __init__(self, name_of_vechile = \"\", max_speed = 0, average_of_vechile = 0):\n",
    "        self.name_of_vechile = name_of_vechile\n",
    "        self.max_speed = max_speed\n",
    "        self.average_of_vechile = average_of_vechile"
   ]
  },
  {
   "cell_type": "markdown",
   "id": "639d49e9",
   "metadata": {},
   "source": [
    "## Q2.  Create a child class car from the vehicle class created in Que 1, which will inherit the vehicle class. Create a method named seating_capacity which takes capacity as an argument and returns the name of the vehicle and its seating capacity."
   ]
  },
  {
   "cell_type": "code",
   "execution_count": 9,
   "id": "5d3537f8",
   "metadata": {},
   "outputs": [],
   "source": [
    "class car(vechile):\n",
    "    \n",
    "    def __init__(self):\n",
    "        super().__init__(\"car\")\n",
    "    \n",
    "    def seating_capacity(self, capacity):\n",
    "        \n",
    "        return self.name_of_vechile, capacity\n",
    "        "
   ]
  },
  {
   "cell_type": "code",
   "execution_count": 10,
   "id": "ecd608bd",
   "metadata": {},
   "outputs": [
    {
     "data": {
      "text/plain": [
       "('car', 4)"
      ]
     },
     "execution_count": 10,
     "metadata": {},
     "output_type": "execute_result"
    }
   ],
   "source": [
    "c = car()\n",
    "\n",
    "c.seating_capacity(4)\n"
   ]
  },
  {
   "cell_type": "code",
   "execution_count": null,
   "id": "b00bf539",
   "metadata": {},
   "outputs": [],
   "source": []
  },
  {
   "cell_type": "markdown",
   "id": "2ab523d8",
   "metadata": {},
   "source": [
    "## Q3. What is multiple inheritance? Write a python code to demonstrate multiple inheritance.\n",
    "\n",
    "        If a class is extending more than one class at a time, it is called as multiple inheritance"
   ]
  },
  {
   "cell_type": "code",
   "execution_count": 21,
   "id": "577c4f37",
   "metadata": {},
   "outputs": [],
   "source": [
    "#see above example - class -> Vechile and Car\n",
    "#multiple Inheritance\n",
    "\n",
    "class mini_car(car, vechile):\n",
    "    def __init__(self):\n",
    "        vechile.__init__(self,\"mini car\")\n",
    "    \n",
    "    def seating_capacity(self, capacity):\n",
    "        print(\"seating capacity of \", self.name_of_vechile, \" is \", capacity)"
   ]
  },
  {
   "cell_type": "code",
   "execution_count": 22,
   "id": "369921b0",
   "metadata": {},
   "outputs": [
    {
     "name": "stdout",
     "output_type": "stream",
     "text": [
      "seating capacity of  mini car  is  2\n"
     ]
    }
   ],
   "source": [
    "c1 = mini_car()\n",
    "c1.seating_capacity(2)"
   ]
  },
  {
   "cell_type": "code",
   "execution_count": null,
   "id": "88090c7e",
   "metadata": {},
   "outputs": [],
   "source": []
  },
  {
   "cell_type": "markdown",
   "id": "d3c8cd82",
   "metadata": {},
   "source": [
    "## Q4. What are getter and setter in python? Create a class and create a getter and a setter method in this class.\n",
    "\n",
    "    getters and setters are basically a method used to get and set the value of any varibale of a class."
   ]
  },
  {
   "cell_type": "code",
   "execution_count": 27,
   "id": "10c09f57",
   "metadata": {},
   "outputs": [],
   "source": [
    "class student:\n",
    "    \n",
    "    def __init__(self, name, email):\n",
    "        #__name are nothing but a private variable which can't be accessed outside of a class\n",
    "        self.__name = name\n",
    "        self.__email = email\n",
    "    \n",
    "    def get_name(self):\n",
    "        return self.__name\n",
    "    def set_name(self, name):\n",
    "        self.__name = name\n",
    "    def get_email(self):\n",
    "        return self.__email\n",
    "    def set_email(self, email):\n",
    "        self.__email = email\n",
    "    "
   ]
  },
  {
   "cell_type": "code",
   "execution_count": 28,
   "id": "4a1832ab",
   "metadata": {},
   "outputs": [
    {
     "data": {
      "text/plain": [
       "'sanjeet'"
      ]
     },
     "execution_count": 28,
     "metadata": {},
     "output_type": "execute_result"
    }
   ],
   "source": [
    "s1 = student(\"sanjeet\", \"test1@domain.com\")\n",
    "#s1.__name #will throw error as name is a private field\n",
    "s1.get_name()"
   ]
  },
  {
   "cell_type": "code",
   "execution_count": 29,
   "id": "5abe6714",
   "metadata": {},
   "outputs": [
    {
     "data": {
      "text/plain": [
       "'sanjeet_1'"
      ]
     },
     "execution_count": 29,
     "metadata": {},
     "output_type": "execute_result"
    }
   ],
   "source": [
    "s1.set_name(\"sanjeet_1\")\n",
    "s1.get_name()"
   ]
  },
  {
   "cell_type": "code",
   "execution_count": null,
   "id": "dbfca8a3",
   "metadata": {},
   "outputs": [],
   "source": []
  },
  {
   "cell_type": "markdown",
   "id": "0226b402",
   "metadata": {},
   "source": [
    "## Q5.What is method overriding in python? Write a python code to demonstrate method overriding.\n",
    "\n",
    "    If a method having same name and same argument declared in child class, this is known as method overriding."
   ]
  },
  {
   "cell_type": "code",
   "execution_count": 30,
   "id": "a1479c92",
   "metadata": {},
   "outputs": [],
   "source": [
    "class animal:\n",
    "    \n",
    "    def bark(self):\n",
    "        print(\"There are some animal which can't bark\")\n",
    "\n",
    "class dog(animal):\n",
    "    \n",
    "    def bark(self):\n",
    "        print(\"Dog can bark\")"
   ]
  },
  {
   "cell_type": "code",
   "execution_count": 31,
   "id": "acc1286c",
   "metadata": {},
   "outputs": [
    {
     "name": "stdout",
     "output_type": "stream",
     "text": [
      "Dog can bark\n"
     ]
    }
   ],
   "source": [
    "d = dog()\n",
    "d.bark()"
   ]
  },
  {
   "cell_type": "code",
   "execution_count": 32,
   "id": "f5f5f34a",
   "metadata": {},
   "outputs": [
    {
     "name": "stdout",
     "output_type": "stream",
     "text": [
      "There are some animal which can't bark\n"
     ]
    }
   ],
   "source": [
    "a = animal()\n",
    "a.bark()"
   ]
  },
  {
   "cell_type": "code",
   "execution_count": null,
   "id": "4efa6c0c",
   "metadata": {},
   "outputs": [],
   "source": []
  }
 ],
 "metadata": {
  "kernelspec": {
   "display_name": "Python 3",
   "language": "python",
   "name": "python3"
  },
  "language_info": {
   "codemirror_mode": {
    "name": "ipython",
    "version": 3
   },
   "file_extension": ".py",
   "mimetype": "text/x-python",
   "name": "python",
   "nbconvert_exporter": "python",
   "pygments_lexer": "ipython3",
   "version": "3.8.8"
  }
 },
 "nbformat": 4,
 "nbformat_minor": 5
}
