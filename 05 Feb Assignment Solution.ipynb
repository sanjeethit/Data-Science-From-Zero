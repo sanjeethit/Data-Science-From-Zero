{
 "cells": [
  {
   "cell_type": "markdown",
   "id": "c42fb096",
   "metadata": {},
   "source": [
    "## Q1. Explain Class and Object with respect to Object-Oriented Programming. Give a suitable example.\n",
    "\n",
    "    A class is a real world entity or blue print which has state and behaviour.\n",
    "    An Object is nothing but a reference to the class which access the class state and behaviour and has ability to change \n",
    "    as well."
   ]
  },
  {
   "cell_type": "code",
   "execution_count": 5,
   "id": "f048cb11",
   "metadata": {},
   "outputs": [],
   "source": [
    "class student:\n",
    "    \n",
    "    def __init__(self,name, roll):\n",
    "        \n",
    "        self.name = name\n",
    "        self.roll = roll\n",
    "    \n",
    "    def announce_roll(self):\n",
    "        print(\"Hi\", self.name, \"Your Roll no is \", self.roll)\n",
    "        "
   ]
  },
  {
   "cell_type": "code",
   "execution_count": 6,
   "id": "9f22e85d",
   "metadata": {},
   "outputs": [
    {
     "name": "stdout",
     "output_type": "stream",
     "text": [
      "Hi ram Your Roll no is  101\n"
     ]
    }
   ],
   "source": [
    "student_1 = student(\"ram\", 101)\n",
    "student_1.announce_roll()"
   ]
  },
  {
   "cell_type": "markdown",
   "id": "790afce5",
   "metadata": {},
   "source": [
    "## Q2. Name the four pillars of OOPs.\n",
    "\n",
    "    The four pillars of OOPs are :-\n",
    "    \n",
    "        Inheritance\n",
    "        Encapsulation\n",
    "        Ploymorphism\n",
    "        Abstraction"
   ]
  },
  {
   "cell_type": "markdown",
   "id": "f3e4373a",
   "metadata": {},
   "source": [
    "## Q3. Explain why the __init__() function is used. Give a suitable example.\n",
    "\n",
    "    The __init__ function is a constructor of a class which is used to initialize the the instance variable."
   ]
  },
  {
   "cell_type": "code",
   "execution_count": 7,
   "id": "350ed2d8",
   "metadata": {},
   "outputs": [],
   "source": [
    "class student:\n",
    "    \n",
    "    def __init__(self,name, roll):\n",
    "        \n",
    "        self.name = name\n",
    "        self.roll = roll\n"
   ]
  },
  {
   "cell_type": "code",
   "execution_count": 8,
   "id": "88a7408c",
   "metadata": {},
   "outputs": [],
   "source": [
    "# here stu_1 name and roll is getting initialized by the constructor\n",
    "stu_1 = student(\"Ram\", 101)"
   ]
  },
  {
   "cell_type": "markdown",
   "id": "5b61bb1d",
   "metadata": {},
   "source": [
    "## Q4. Why self is used in OOPs?\n",
    "\n",
    "    Self is used to bind the attributes and arguments. It always point to current class object."
   ]
  },
  {
   "cell_type": "markdown",
   "id": "d9b08ffb",
   "metadata": {},
   "source": [
    "## Q5. What is inheritance? Give an example for each type of inheritance.\n",
    "\n",
    "    Inheritance is meachanism in which a class inherits the attribute and behvaiour from another class which is called \n",
    "    parent class of the inheriting class.\n",
    "    \n",
    "    Python supports below inheritance type - \n",
    "        Single Inheritance\n",
    "        Multiple Inheritance\n",
    "        Multilevel Inheritance\n",
    "        Hierarchical Inheritance\n",
    "        Hybrid nheritance"
   ]
  },
  {
   "cell_type": "code",
   "execution_count": 12,
   "id": "9c70312b",
   "metadata": {},
   "outputs": [
    {
     "name": "stdout",
     "output_type": "stream",
     "text": [
      "Any product in this category will support Toys only\n",
      "Any heavy toys should have weight > 10kg\n"
     ]
    }
   ],
   "source": [
    "#Single Inheritance\n",
    "class product:\n",
    "    \n",
    "    def get_product_feature(self):\n",
    "        return \"Any product in this category will support Toys only\"\n",
    "\n",
    "class heavy_toys_product(product):\n",
    "    \n",
    "    def get_heavy_toys_feature(self):\n",
    "        \n",
    "        return \"Any heavy toys should have weight > 10kg\"\n",
    "\n",
    "toys_product_1 = heavy_toys_product()\n",
    "\n",
    "print(toys_product_1.get_product_feature())\n",
    "print(toys_product_1.get_heavy_toys_feature())"
   ]
  },
  {
   "cell_type": "code",
   "execution_count": 14,
   "id": "5ffb6635",
   "metadata": {},
   "outputs": [
    {
     "data": {
      "text/plain": [
       "'Any product in this category will support Toys only'"
      ]
     },
     "execution_count": 14,
     "metadata": {},
     "output_type": "execute_result"
    }
   ],
   "source": [
    "#Multiple Inheritance,\n",
    "\n",
    "class truck_toys_product(heavy_toys_product, product):\n",
    "    \n",
    "    def get_truck_toys_feature(self):\n",
    "        return \"truck toys is having a weight of 12kg\"\n",
    "\n",
    "toys_product_2 = truck_toys_product()\n",
    "\n",
    "toys_product_2.get_product_feature()"
   ]
  },
  {
   "cell_type": "code",
   "execution_count": 15,
   "id": "cee41b34",
   "metadata": {},
   "outputs": [
    {
     "data": {
      "text/plain": [
       "'Any product in this category will support Toys only'"
      ]
     },
     "execution_count": 15,
     "metadata": {},
     "output_type": "execute_result"
    }
   ],
   "source": [
    "#Multilevel inheritance\n",
    "class light_toys_product(product):\n",
    "    \n",
    "    def get_light_toys_feature(self):\n",
    "        return \"light toys product should have weight < 10kg\"\n",
    "\n",
    "class car_toys_product(light_toys_product):\n",
    "    \n",
    "    def get_car_toys_feature(self):\n",
    "        return \"car toys is having a weight of 7kg\"\n",
    "    \n",
    "toys_product_3 = car_toys_product()\n",
    "toys_product_3.get_product_feature()"
   ]
  },
  {
   "cell_type": "markdown",
   "id": "66d61ead",
   "metadata": {},
   "source": [
    "Hierarchical and Hybrid are more or less combination of above 3 only.\n"
   ]
  },
  {
   "cell_type": "code",
   "execution_count": null,
   "id": "7817a4d0",
   "metadata": {},
   "outputs": [],
   "source": []
  }
 ],
 "metadata": {
  "kernelspec": {
   "display_name": "Python 3",
   "language": "python",
   "name": "python3"
  },
  "language_info": {
   "codemirror_mode": {
    "name": "ipython",
    "version": 3
   },
   "file_extension": ".py",
   "mimetype": "text/x-python",
   "name": "python",
   "nbconvert_exporter": "python",
   "pygments_lexer": "ipython3",
   "version": "3.8.8"
  }
 },
 "nbformat": 4,
 "nbformat_minor": 5
}
