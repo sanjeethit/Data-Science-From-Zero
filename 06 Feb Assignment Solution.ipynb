{
 "cells": [
  {
   "cell_type": "markdown",
   "id": "9f7f8672",
   "metadata": {},
   "source": [
    "## 1. Create a function which will take a list as an argument and return the product of all the numbers after creating a flat list.\n",
    "\n",
    "### Use the below-given list as an argument for your function.\n",
    "\n",
    "### list1 = [1,2,3,4, [44,55,66, True], False, (34,56,78,89,34), {1,2,3,3,2,1}, {1:34, \"key2\": [55, 67, 78, 89], 4: (45, 22, 61, 34)}, [56, 'data science'], 'Machine Learning']\n",
    "\n",
    "\n",
    "### Note: you must extract numeric keys and values of the dictionary also."
   ]
  },
  {
   "cell_type": "code",
   "execution_count": 4,
   "id": "78214cd3",
   "metadata": {},
   "outputs": [],
   "source": [
    "from functools import reduce"
   ]
  },
  {
   "cell_type": "code",
   "execution_count": 55,
   "id": "f266b887",
   "metadata": {},
   "outputs": [],
   "source": [
    "list1 = [1,2,3,4, [44,55,66, True], False, (34,56,78,89,34), {1,2,3,3,2,1}, \n",
    "         {1:34, \"key2\": [55, 67, 78, 89], 4: (45, 22, 61, 34)}, [56, 'data science'], 'Machine Learning']\n",
    "\n",
    "list2 = [1,2,3,4, [1,2,3, True], False, (3,5,7,8,3), {1,2,3,3,2,1}, \n",
    "         {1:3, \"key2\": [5, 6, 7, 8], 4: (4, 2, 1, 3)}, [5, 'data science'], 'Machine Learning']"
   ]
  },
  {
   "cell_type": "code",
   "execution_count": 56,
   "id": "254988b1",
   "metadata": {},
   "outputs": [],
   "source": [
    "def get_numbers_from_list(lst):\n",
    "    nums = []\n",
    "    for i in lst:\n",
    "        if type(i) == int:\n",
    "            nums.append(i)\n",
    "    return nums"
   ]
  },
  {
   "cell_type": "code",
   "execution_count": 57,
   "id": "e9a637b3",
   "metadata": {},
   "outputs": [],
   "source": [
    "def get_numbers_from_dict(d):\n",
    "    nums = []\n",
    "    keys = d.keys()\n",
    "    \n",
    "    for i in d.keys():\n",
    "        if type(i) == int:\n",
    "            nums.append(i)\n",
    "        elif type(i) == list or type(i) == tuple or type(i) == set:\n",
    "            nums = nums + get_numbers_from_list(i)\n",
    "    for i in d.values():\n",
    "        if type(i) == int:\n",
    "            nums.append(i)\n",
    "        elif type(i) == list or type(i) == tuple or type(i) == set:\n",
    "            nums = nums + get_numbers_from_list(i)\n",
    "    return nums\n",
    "    "
   ]
  },
  {
   "cell_type": "code",
   "execution_count": 58,
   "id": "d0a78b3a",
   "metadata": {},
   "outputs": [],
   "source": [
    "def get_product(lst):\n",
    "    flatten_list = []\n",
    "    for item in lst:\n",
    "        \n",
    "        if type(item) == int:\n",
    "            flatten_list.append(item)\n",
    "        elif type(item) == list or type(item) == tuple or type(item) == set:\n",
    "            flatten_list = flatten_list + get_numbers_from_list(item)\n",
    "        elif type(item) == dict:\n",
    "            flatten_list = flatten_list + get_numbers_from_dict(item)\n",
    "        \n",
    "    return reduce(lambda x, y : x*y, flatten_list)"
   ]
  },
  {
   "cell_type": "code",
   "execution_count": 60,
   "id": "9a58c30b",
   "metadata": {},
   "outputs": [
    {
     "data": {
      "text/plain": [
       "4134711838987085478833841242112000"
      ]
     },
     "execution_count": 60,
     "metadata": {},
     "output_type": "execute_result"
    }
   ],
   "source": [
    "get_product(list1)"
   ]
  },
  {
   "cell_type": "code",
   "execution_count": null,
   "id": "b0e8baf9",
   "metadata": {},
   "outputs": [],
   "source": []
  },
  {
   "cell_type": "code",
   "execution_count": null,
   "id": "388ebe12",
   "metadata": {},
   "outputs": [],
   "source": []
  },
  {
   "cell_type": "code",
   "execution_count": null,
   "id": "97e606f4",
   "metadata": {},
   "outputs": [],
   "source": []
  },
  {
   "cell_type": "markdown",
   "id": "d1beedcf",
   "metadata": {},
   "source": [
    "## Q2. Write a python program for encrypting a message sent to you by your friend. The logic of encryption should be such that, for a the output should be z. For b, the output should be y. For c, the output should be x respectively. Also, the whitespace should be replaced with a dollar sign. Keep the punctuation marks unchanged.\n",
    "\n",
    "\n",
    "### Input Sentence: I want to become a Data Scientist.\n",
    "\n",
    "### Encrypt the above input sentence using the program you just created.\n",
    "\n",
    "\n",
    "### Note: Convert the given input sentence into lowercase before encrypting. The final output should be lowercase"
   ]
  },
  {
   "cell_type": "code",
   "execution_count": 98,
   "id": "d0a30e33",
   "metadata": {},
   "outputs": [],
   "source": [
    "my_dictionary = {chr(i) :chr(ord('z') - i + ord('a'))  for i in range(ord('a'), ord('z')+1)}\n",
    "\n",
    "def encrypt_message(message):\n",
    "    message = list(message.lower())\n",
    "    \n",
    "    for i in range(len(message)):\n",
    "        \n",
    "        if message[i] == ' ':\n",
    "            message[i] = '$'\n",
    "        elif 'a' <= message[i] <= 'z':\n",
    "            message[i] = my_dictionary[message[i]]\n",
    "    return \"\".join(message)"
   ]
  },
  {
   "cell_type": "code",
   "execution_count": 99,
   "id": "0d98fafa",
   "metadata": {},
   "outputs": [
    {
     "data": {
      "text/plain": [
       "'r$dzmg$gl$yvxlnv$z$wzgz$hxrvmgrhg.'"
      ]
     },
     "execution_count": 99,
     "metadata": {},
     "output_type": "execute_result"
    }
   ],
   "source": [
    "encrypt_message(\"I want to become a Data Scientist.\")"
   ]
  },
  {
   "cell_type": "code",
   "execution_count": null,
   "id": "5d6cff19",
   "metadata": {},
   "outputs": [],
   "source": []
  }
 ],
 "metadata": {
  "kernelspec": {
   "display_name": "Python 3",
   "language": "python",
   "name": "python3"
  },
  "language_info": {
   "codemirror_mode": {
    "name": "ipython",
    "version": 3
   },
   "file_extension": ".py",
   "mimetype": "text/x-python",
   "name": "python",
   "nbconvert_exporter": "python",
   "pygments_lexer": "ipython3",
   "version": "3.8.8"
  }
 },
 "nbformat": 4,
 "nbformat_minor": 5
}
