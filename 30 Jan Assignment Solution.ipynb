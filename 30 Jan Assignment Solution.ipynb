{
 "cells": [
  {
   "cell_type": "markdown",
   "id": "4c471f3e",
   "metadata": {},
   "source": [
    "1. Write a Programme to accept percentage from User and dispaly the Grade according to below Criteria : -\n",
    "    \n",
    "        > 90 -> A\n",
    "        > 80 and <=90 --> B\n",
    "        >=60 and <=80 --> C\n",
    "        < 60 --> D"
   ]
  },
  {
   "cell_type": "code",
   "execution_count": 25,
   "id": "66c1991f",
   "metadata": {},
   "outputs": [
    {
     "name": "stdout",
     "output_type": "stream",
     "text": [
      "101\n",
      "Please enter the percentage value between 1 and 100\n"
     ]
    }
   ],
   "source": [
    "percentage = int(input())\n",
    "\n",
    "grade = ''\n",
    "if percentage < 1 or percentage > 100:\n",
    "    print(\"Please enter the percentage value between 1 and 100\")\n",
    "elif percentage > 90 :\n",
    "    grade = 'A'\n",
    "elif percentage > 80 and percentage <=90:\n",
    "    grade = 'B'\n",
    "elif percentage >= 60 and percentage <= 80:\n",
    "    grade = 'C'\n",
    "else :\n",
    "    grade = 'D'\n",
    "\n",
    "if len(grade) != 0:\n",
    "    print(\"Grade of Student is - \", grade)"
   ]
  },
  {
   "cell_type": "markdown",
   "id": "7bf4d9e9",
   "metadata": {},
   "source": [
    "2.Write a programme to accept the cost price of a bike and display the road tax to be paid according to below criteria\n",
    "\n",
    "    15% --> >100000\n",
    "    10% --> >50000 and <= 100000\n",
    "    5% -->  <=50000"
   ]
  },
  {
   "cell_type": "code",
   "execution_count": 9,
   "id": "b4b55355",
   "metadata": {},
   "outputs": [
    {
     "name": "stdout",
     "output_type": "stream",
     "text": [
      "1000000\n"
     ]
    },
    {
     "data": {
      "text/plain": [
       "150000.0"
      ]
     },
     "execution_count": 9,
     "metadata": {},
     "output_type": "execute_result"
    }
   ],
   "source": [
    "price = int(input())\n",
    "\n",
    "tax = price*0.15 if price > 100000 else price*0.1 if (price > 50000 and price <= 100000) else price*0.05\n",
    "tax"
   ]
  },
  {
   "cell_type": "markdown",
   "id": "5bf6c180",
   "metadata": {},
   "source": [
    "3. Accept any city from user and display monumnets of that city.\n",
    "\n",
    "    Delhi --> RedFort\n",
    "    \n",
    "    Agra --> Taj Mahal\n",
    "    \n",
    "    Jaipur --> Jal Mahal"
   ]
  },
  {
   "cell_type": "code",
   "execution_count": 28,
   "id": "ea150646",
   "metadata": {},
   "outputs": [
    {
     "name": "stdout",
     "output_type": "stream",
     "text": [
      "agra\n",
      "Monuments of  agra is  Taj Mahal\n"
     ]
    }
   ],
   "source": [
    "city = input()\n",
    "\n",
    "\n",
    "if city.lower() == \"delhi\":\n",
    "    print(\"Monuments of \", city, \"is \", \"Red Fort\")\n",
    "elif city.lower() == \"agra\":\n",
    "    print(\"Monuments of \", city, \"is \", \"Taj Mahal\")\n",
    "elif city.lower() == \"jaipur\":\n",
    "    print(\"Monuments of \", city, \"is \", \"Jal Mahal\")\n",
    "else:\n",
    "    print(\"Please enter the city as per question sample\")\n"
   ]
  },
  {
   "cell_type": "markdown",
   "id": "aad10f9c",
   "metadata": {},
   "source": [
    "4. check how many times a given number can be divided by 3 before it is less than or equal to 10."
   ]
  },
  {
   "cell_type": "code",
   "execution_count": 10,
   "id": "ab2570c4",
   "metadata": {},
   "outputs": [
    {
     "name": "stdout",
     "output_type": "stream",
     "text": [
      "99\n"
     ]
    },
    {
     "data": {
      "text/plain": [
       "3"
      ]
     },
     "execution_count": 10,
     "metadata": {},
     "output_type": "execute_result"
    }
   ],
   "source": [
    "num = int(input())\n",
    "\n",
    "count = 0\n",
    "while num >= 10:\n",
    "    count += 1\n",
    "    num = num/3\n",
    "count\n"
   ]
  },
  {
   "cell_type": "markdown",
   "id": "4c9db070",
   "metadata": {},
   "source": [
    "5. Why and when to use while loop in python give a detailed explanation with example"
   ]
  },
  {
   "cell_type": "markdown",
   "id": "7e96d751",
   "metadata": {},
   "source": [
    "Any loops are used basically for iteration without repitition.\n",
    "we use while loop when for an indefinite iteration that is when a loop repeats unkown number of times and end when some condition is met.\n",
    "\n",
    "see below example(question no - 7)"
   ]
  },
  {
   "cell_type": "markdown",
   "id": "b595f0ae",
   "metadata": {},
   "source": [
    "6.Use Nested while loop to print 3 different Pattern"
   ]
  },
  {
   "cell_type": "code",
   "execution_count": 8,
   "id": "9eab18eb",
   "metadata": {},
   "outputs": [
    {
     "name": "stdout",
     "output_type": "stream",
     "text": [
      "  1\n",
      " 22\n",
      "333\n"
     ]
    }
   ],
   "source": [
    "n = 3\n",
    "row = 1\n",
    "while row <= n:\n",
    "    sp = n-row\n",
    "    col = row\n",
    "    while sp > 0:\n",
    "        print(\" \", end = \"\")\n",
    "        sp -= 1\n",
    "    while col > 0: \n",
    "        print(row, end = \"\")\n",
    "        col -= 1\n",
    "    print()\n",
    "    row += 1"
   ]
  },
  {
   "cell_type": "markdown",
   "id": "ecb43abf",
   "metadata": {},
   "source": [
    "7. Reverse a while loop to display number from 10 to 1"
   ]
  },
  {
   "cell_type": "code",
   "execution_count": 9,
   "id": "e92e5ba9",
   "metadata": {},
   "outputs": [
    {
     "name": "stdout",
     "output_type": "stream",
     "text": [
      "10\n",
      "9\n",
      "8\n",
      "7\n",
      "6\n",
      "5\n",
      "4\n",
      "3\n",
      "2\n",
      "1\n"
     ]
    }
   ],
   "source": [
    "n = 10\n",
    "while n > 0:\n",
    "    print(n)\n",
    "    n -= 1"
   ]
  },
  {
   "cell_type": "code",
   "execution_count": null,
   "id": "0da94527",
   "metadata": {},
   "outputs": [],
   "source": []
  }
 ],
 "metadata": {
  "kernelspec": {
   "display_name": "Python 3",
   "language": "python",
   "name": "python3"
  },
  "language_info": {
   "codemirror_mode": {
    "name": "ipython",
    "version": 3
   },
   "file_extension": ".py",
   "mimetype": "text/x-python",
   "name": "python",
   "nbconvert_exporter": "python",
   "pygments_lexer": "ipython3",
   "version": "3.8.8"
  }
 },
 "nbformat": 4,
 "nbformat_minor": 5
}
