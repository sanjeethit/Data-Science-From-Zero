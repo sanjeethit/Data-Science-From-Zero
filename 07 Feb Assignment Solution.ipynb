{
 "cells": [
  {
   "cell_type": "markdown",
   "id": "4696ca4b",
   "metadata": {},
   "source": [
    "## Q1. You are writing code for a company. The requirement of the company is that you create a python function that will check whether the password entered by the user is correct or not. The function should take the password as input and return the string “Valid Password” if the entered password follows the below-given password guidelines else it should return “Invalid Password”.\n",
    "\n",
    "\n",
    "### Note: 1. The Password should contain at least two uppercase letters and at least two lowercase letters.\n",
    "\n",
    "### 2. The Password should contain at least a number and three special characters.\n",
    "\n",
    "### 3. The length of the password should be 10 characters long"
   ]
  },
  {
   "cell_type": "code",
   "execution_count": 15,
   "id": "4adf1788",
   "metadata": {},
   "outputs": [],
   "source": [
    "special_char = \"~`!@#$%^&)*(-+][\"\n",
    "\n",
    "def password_validator(password):\n",
    "    uppercase_count, lowercase_count, sp_char_count, numeric_count = 0,0,0,0\n",
    "    \n",
    "    if len(password) < 10 :\n",
    "        return \"Invalid Password\"\n",
    "    \n",
    "    for char in password:\n",
    "        \n",
    "        if char in special_char:\n",
    "            sp_char_count += 1\n",
    "        elif 'a' <= char <= 'z':\n",
    "            lowercase_count += 1\n",
    "        elif 'A' <= char <= 'Z':\n",
    "            uppercase_count +=1\n",
    "        elif char.isnumeric():\n",
    "            numeric_count += 1\n",
    "        #according top understanding of question, the password should contain adjectly 3 special char(not atleast)\n",
    "        # so the password will be valid if adjectly 3 special chars are present\n",
    "        if sp_char_count == 3 and lowercase_count >= 2 and uppercase_count >= 2 and numeric_count >= 1:\n",
    "            return \"Valid Password\"\n",
    "        \n",
    "    return \"Invalid Password\"\n",
    "            "
   ]
  },
  {
   "cell_type": "code",
   "execution_count": 16,
   "id": "d58f55a4",
   "metadata": {},
   "outputs": [
    {
     "data": {
      "text/plain": [
       "'Valid Password'"
      ]
     },
     "execution_count": 16,
     "metadata": {},
     "output_type": "execute_result"
    }
   ],
   "source": [
    "password_validator(\"SanJe@#$123\")"
   ]
  },
  {
   "cell_type": "code",
   "execution_count": null,
   "id": "7da3d638",
   "metadata": {},
   "outputs": [],
   "source": []
  },
  {
   "cell_type": "markdown",
   "id": "3a1b6184",
   "metadata": {},
   "source": [
    "## Q2. Solve the below-given questions using at least one of the following: \n",
    "\n",
    "1. Lambda functio\n",
    "2. Filter functio\n",
    "3. Map functio\n",
    "4. List Comprehension\n",
    "    \n",
    "    Check if the string starts with a particular letter\n",
    "    \n",
    "    Check if the string is numeric\n",
    "    \n",
    "    Sort a list of tuples having fruit names and their quantity. [(\"mango\",99),(\"orange\",80), (\"grapes\", 1000)]\n",
    "    \n",
    "    Find the squares of numbers from 1 to 10\n",
    "    \n",
    "    Find the cube root of numbers from 1 to 10\n",
    "    \n",
    "    Check if a given number is even\n",
    "    \n",
    "    Filter odd numbers from the given list.\n",
    "                    [1,2,3,4,5,6,7,8,9,10]\n",
    "    \n",
    "    Sort a list of integers into positive and negative integers lists.\n",
    "                    [1,2,3,4,5,6,-1,-2,-3,-4,-5,0]"
   ]
  },
  {
   "cell_type": "code",
   "execution_count": 50,
   "id": "297375de",
   "metadata": {},
   "outputs": [],
   "source": [
    "#Check if the string starts with a particular letter\n",
    "is_starts_with = lambda x, start : x.startswith(start)"
   ]
  },
  {
   "cell_type": "code",
   "execution_count": 51,
   "id": "4f8f6363",
   "metadata": {},
   "outputs": [
    {
     "data": {
      "text/plain": [
       "True"
      ]
     },
     "execution_count": 51,
     "metadata": {},
     "output_type": "execute_result"
    }
   ],
   "source": [
    "is_starts_with(\"Sanjeet\", \"Sa\")"
   ]
  },
  {
   "cell_type": "code",
   "execution_count": 47,
   "id": "6d2160d1",
   "metadata": {},
   "outputs": [],
   "source": [
    "#Check if the string is numeric\n",
    "is_numeric = lambda x : x.isnumeric()"
   ]
  },
  {
   "cell_type": "code",
   "execution_count": 48,
   "id": "611aacb6",
   "metadata": {},
   "outputs": [
    {
     "data": {
      "text/plain": [
       "True"
      ]
     },
     "execution_count": 48,
     "metadata": {},
     "output_type": "execute_result"
    }
   ],
   "source": [
    "is_numeric(\"123\")"
   ]
  },
  {
   "cell_type": "code",
   "execution_count": 49,
   "id": "a7b633e8",
   "metadata": {},
   "outputs": [
    {
     "data": {
      "text/plain": [
       "False"
      ]
     },
     "execution_count": 49,
     "metadata": {},
     "output_type": "execute_result"
    }
   ],
   "source": [
    "is_numeric(\"sa123\")"
   ]
  },
  {
   "cell_type": "code",
   "execution_count": null,
   "id": "18b07cdd",
   "metadata": {},
   "outputs": [],
   "source": []
  },
  {
   "cell_type": "code",
   "execution_count": null,
   "id": "e6bf3c9f",
   "metadata": {},
   "outputs": [],
   "source": []
  },
  {
   "cell_type": "code",
   "execution_count": 31,
   "id": "658011ec",
   "metadata": {},
   "outputs": [],
   "source": [
    "#Sort a list of tuples having fruit names and their quantity. [(\"mango\",99),(\"orange\",80), (\"grapes\", 1000)]\n",
    "\n",
    "fruits_1 = [(\"mango\",99),(\"orange\",80), (\"grapes\", 1000)]\n",
    "fruits_2 = [(\"mango\",99),(\"orange\",80), (\"grapes\", 1000)]\n",
    "\n",
    "#sorting based on fruit name\n",
    "fruits_1.sort()\n",
    "\n",
    "#sorting based on fruit quantity\n",
    "fruits_2.sort(key = lambda x : x[1])"
   ]
  },
  {
   "cell_type": "code",
   "execution_count": 32,
   "id": "56370f42",
   "metadata": {},
   "outputs": [
    {
     "name": "stdout",
     "output_type": "stream",
     "text": [
      "[('grapes', 1000), ('mango', 99), ('orange', 80)]\n",
      "[('orange', 80), ('mango', 99), ('grapes', 1000)]\n"
     ]
    }
   ],
   "source": [
    "print(fruits_1)\n",
    "print(fruits_2)"
   ]
  },
  {
   "cell_type": "code",
   "execution_count": null,
   "id": "a635f3c4",
   "metadata": {},
   "outputs": [],
   "source": []
  },
  {
   "cell_type": "code",
   "execution_count": 33,
   "id": "0a149f17",
   "metadata": {},
   "outputs": [
    {
     "data": {
      "text/plain": [
       "[1, 4, 9, 16, 25, 36, 49, 64, 81, 100]"
      ]
     },
     "execution_count": 33,
     "metadata": {},
     "output_type": "execute_result"
    }
   ],
   "source": [
    "#Find the squares of numbers from 1 to 10\n",
    "squared_numbers = [i**2 for i in range(1, 11)]\n",
    "squared_numbers"
   ]
  },
  {
   "cell_type": "code",
   "execution_count": 38,
   "id": "2b0d424e",
   "metadata": {},
   "outputs": [
    {
     "data": {
      "text/plain": [
       "[1.0, 1.26, 1.442, 1.587, 1.71, 1.817, 1.913, 2.0, 2.08, 2.154]"
      ]
     },
     "execution_count": 38,
     "metadata": {},
     "output_type": "execute_result"
    }
   ],
   "source": [
    "#Find the cube root of numbers from 1 to 10\n",
    "\n",
    "cube_root = [round(i ** (1.0/3), 3) for i in range(1, 11)]\n",
    "cube_root"
   ]
  },
  {
   "cell_type": "code",
   "execution_count": null,
   "id": "f02d8eb0",
   "metadata": {},
   "outputs": [],
   "source": []
  },
  {
   "cell_type": "code",
   "execution_count": null,
   "id": "fe4e3d01",
   "metadata": {},
   "outputs": [],
   "source": []
  },
  {
   "cell_type": "code",
   "execution_count": 40,
   "id": "e8c20f43",
   "metadata": {},
   "outputs": [
    {
     "data": {
      "text/plain": [
       "True"
      ]
     },
     "execution_count": 40,
     "metadata": {},
     "output_type": "execute_result"
    }
   ],
   "source": [
    "#Check if a given number is even\n",
    "is_even = lambda x : x%2 == 0\n",
    "\n",
    "is_even(2)"
   ]
  },
  {
   "cell_type": "code",
   "execution_count": null,
   "id": "fa700ec5",
   "metadata": {},
   "outputs": [],
   "source": []
  },
  {
   "cell_type": "code",
   "execution_count": null,
   "id": "69be90bb",
   "metadata": {},
   "outputs": [],
   "source": []
  },
  {
   "cell_type": "code",
   "execution_count": 42,
   "id": "88c337bb",
   "metadata": {},
   "outputs": [
    {
     "data": {
      "text/plain": [
       "[1, 3, 5, 7, 9]"
      ]
     },
     "execution_count": 42,
     "metadata": {},
     "output_type": "execute_result"
    }
   ],
   "source": [
    "#Filter odd numbers from the given list.\n",
    "lst = [1,2,3,4,5,6,7,8,9,10]\n",
    "\n",
    "odd_list = list(filter(lambda x : x % 2 != 0, lst))\n",
    "odd_list"
   ]
  },
  {
   "cell_type": "code",
   "execution_count": 46,
   "id": "467e6447",
   "metadata": {},
   "outputs": [
    {
     "name": "stdout",
     "output_type": "stream",
     "text": [
      "[0, 1, 2, 3, 4, 5, 6]\n"
     ]
    },
    {
     "data": {
      "text/plain": [
       "[-5, -4, -3, -2, -1]"
      ]
     },
     "execution_count": 46,
     "metadata": {},
     "output_type": "execute_result"
    }
   ],
   "source": [
    "#Sort a list of integers into positive and negative integers lists.\n",
    "\n",
    "lst = [1,2,3,4,5,6,-1,-2,-3,-4,-5,0]\n",
    "\n",
    "positive_nums = list(filter(lambda x : x >= 0, lst))\n",
    "positive_nums.sort()\n",
    "print(positive_nums)\n",
    "\n",
    "negative_nums = list(filter(lambda x : x < 0, lst))\n",
    "negative_nums.sort()\n",
    "negative_nums"
   ]
  },
  {
   "cell_type": "code",
   "execution_count": null,
   "id": "45157828",
   "metadata": {},
   "outputs": [],
   "source": []
  }
 ],
 "metadata": {
  "kernelspec": {
   "display_name": "Python 3",
   "language": "python",
   "name": "python3"
  },
  "language_info": {
   "codemirror_mode": {
    "name": "ipython",
    "version": 3
   },
   "file_extension": ".py",
   "mimetype": "text/x-python",
   "name": "python",
   "nbconvert_exporter": "python",
   "pygments_lexer": "ipython3",
   "version": "3.8.8"
  }
 },
 "nbformat": 4,
 "nbformat_minor": 5
}
