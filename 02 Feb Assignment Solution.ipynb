{
 "cells": [
  {
   "cell_type": "markdown",
   "id": "c04a11bb",
   "metadata": {},
   "source": [
    "##  Q1. What are the characteristics of the tuples? Is tuple immutable?\n",
    "\n",
    "           Below characteristics a tuple has :-\n",
    "           Immutable collection\n",
    "           Elements are ordered\n",
    "           Indexing can be done(both +ve and -ve)\n",
    "           Slicing can be done\n",
    "           Supports 2 in-builts methods namely - index() and count()\n",
    "           \n",
    "           Yes, tuple is immutable.\n"
   ]
  },
  {
   "cell_type": "markdown",
   "id": "33190805",
   "metadata": {},
   "source": [
    "## Q2. What are the two tuple methods in python? Give an example of each method. Give a reason why tuples have only two in-built methods as compared to Lists ?\n",
    "\n",
    "        The 2 inbuilt methods specifically for tuples are - index() and count() (see below examples)\n",
    "        \n",
    "        The reason for being 2 methods is Immutability.If other methods are allowed on tuple, they might modify \n",
    "        the tuple and contradict tuple being immutable."
   ]
  },
  {
   "cell_type": "code",
   "execution_count": 2,
   "id": "124a3ae8",
   "metadata": {},
   "outputs": [],
   "source": [
    "tup = (1,2,4,3,2,5)"
   ]
  },
  {
   "cell_type": "code",
   "execution_count": 4,
   "id": "2d48f9b2",
   "metadata": {},
   "outputs": [
    {
     "data": {
      "text/plain": [
       "2"
      ]
     },
     "execution_count": 4,
     "metadata": {},
     "output_type": "execute_result"
    }
   ],
   "source": [
    "tup.index(4)"
   ]
  },
  {
   "cell_type": "code",
   "execution_count": 5,
   "id": "e31c23d3",
   "metadata": {},
   "outputs": [
    {
     "data": {
      "text/plain": [
       "2"
      ]
     },
     "execution_count": 5,
     "metadata": {},
     "output_type": "execute_result"
    }
   ],
   "source": [
    "tup.count(2)"
   ]
  },
  {
   "cell_type": "markdown",
   "id": "2824e8ef",
   "metadata": {},
   "source": [
    "## Q3.  Which collection datatypes in python do not allow duplicate items? Write a code using a set to remove duplicates from the given list.\n",
    "### List = [1, 1, 1, 2, 1, 3, 1, 4, 2, 1, 2, 2, 2, 3, 2, 4, 3, 1, 3, 2, 3, 3, 3, 4, 4, 1, 4, 2, 4, 3, 4, 4]\n",
    "\n",
    "        Basically Set does not allowe duplicates item. Also in case of Dictionary the keys are unique."
   ]
  },
  {
   "cell_type": "code",
   "execution_count": 6,
   "id": "cb581946",
   "metadata": {},
   "outputs": [
    {
     "data": {
      "text/plain": [
       "{1, 2, 3, 4}"
      ]
     },
     "execution_count": 6,
     "metadata": {},
     "output_type": "execute_result"
    }
   ],
   "source": [
    "List = [1, 1, 1, 2, 1, 3, 1, 4, 2, 1, 2, 2, 2, 3, 2, 4, 3, 1, 3, 2, 3, 3, 3, 4, 4, 1, 4, 2, 4, 3, 4, 4]\n",
    "unique = set(List)\n",
    "unique"
   ]
  },
  {
   "cell_type": "markdown",
   "id": "94dba585",
   "metadata": {},
   "source": [
    "## Q4. Explain the difference between the union() and update() methods for a set. Give an example of each method.\n",
    "\n",
    "        Both Union and update methods add elements to a set.The Union of Set(A) and Set(B) returns a new set where A and B \n",
    "        are unchnaged. In case of Update the initial set are changed\n",
    "\n",
    "        "
   ]
  },
  {
   "cell_type": "code",
   "execution_count": 7,
   "id": "54f33221",
   "metadata": {},
   "outputs": [
    {
     "name": "stdout",
     "output_type": "stream",
     "text": [
      "A after union -  {1, 2, 3, 4}\n",
      "B after Union -  {8, 5, 6, 7}\n",
      "union of A and B -  {1, 2, 3, 4, 5, 6, 7, 8}\n"
     ]
    }
   ],
   "source": [
    "A = {1,2,3,4}\n",
    "B = {5,6,7,8}\n",
    "\n",
    "union_new = A.union(B)\n",
    "print(\"A after union - \", A)\n",
    "print(\"B after Union - \", B)\n",
    "print(\"union of A and B - \", union_new)"
   ]
  },
  {
   "cell_type": "code",
   "execution_count": 11,
   "id": "1dc27970",
   "metadata": {},
   "outputs": [
    {
     "data": {
      "text/plain": [
       "{1, 2, 3, 4, 5, 6, 7, 8}"
      ]
     },
     "execution_count": 11,
     "metadata": {},
     "output_type": "execute_result"
    }
   ],
   "source": [
    "Update = A.update(B) #Nothing will be returned from the Update, the update done inplcae.(Update = None)\n",
    "A\n"
   ]
  },
  {
   "cell_type": "markdown",
   "id": "6e28c5b0",
   "metadata": {},
   "source": [
    "## Q5. What is a dictionary? Give an example. Also, state whether a dictionary is ordered or unordered ?\n",
    "\n",
    "        A Dictionary in Python is inbuilt key-value data store.\n",
    "        \n",
    "        Dictionary is an Unordered Collection."
   ]
  },
  {
   "cell_type": "code",
   "execution_count": 12,
   "id": "db8129e8",
   "metadata": {},
   "outputs": [
    {
     "data": {
      "text/plain": [
       "{'key1': 'value1', 'key2': 'value2'}"
      ]
     },
     "execution_count": 12,
     "metadata": {},
     "output_type": "execute_result"
    }
   ],
   "source": [
    "dictionary = {\"key1\": \"value1\", \"key2\":\"value2\"}\n",
    "dictionary"
   ]
  },
  {
   "cell_type": "code",
   "execution_count": 13,
   "id": "a6778105",
   "metadata": {},
   "outputs": [
    {
     "data": {
      "text/plain": [
       "dict"
      ]
     },
     "execution_count": 13,
     "metadata": {},
     "output_type": "execute_result"
    }
   ],
   "source": [
    "type(dictionary)"
   ]
  },
  {
   "cell_type": "markdown",
   "id": "ddf2e33f",
   "metadata": {},
   "source": [
    "## Q6. Can we create a nested dictionary? If so, please give an example by creating a simple one-level nested dictionary.\n",
    "\n",
    "        Yes, we can create a netsed dictionary in Python."
   ]
  },
  {
   "cell_type": "code",
   "execution_count": 14,
   "id": "71832307",
   "metadata": {},
   "outputs": [
    {
     "data": {
      "text/plain": [
       "{'key1': 'value1', 'nested_key': {'key2': 'value2', 'key3': 'value3'}}"
      ]
     },
     "execution_count": 14,
     "metadata": {},
     "output_type": "execute_result"
    }
   ],
   "source": [
    "nested_dict = {\"key1\":\"value1\", \"nested_key\" : {\"key2\":\"value2\", \"key3\":\"value3\"}}\n",
    "nested_dict"
   ]
  },
  {
   "cell_type": "code",
   "execution_count": 15,
   "id": "beaa9794",
   "metadata": {},
   "outputs": [
    {
     "data": {
      "text/plain": [
       "dict"
      ]
     },
     "execution_count": 15,
     "metadata": {},
     "output_type": "execute_result"
    }
   ],
   "source": [
    "type(nested_dict[\"nested_key\"])"
   ]
  },
  {
   "cell_type": "markdown",
   "id": "ef2593ec",
   "metadata": {},
   "source": [
    "## Q7. Using setdefault() method, create key named topics in the given dictionary and also add the value of  the key as this list ['Python', 'Machine Learning’, 'Deep Learning' \n",
    "dict1 = {'language' : 'Python', 'course': 'Data Science Masters'}"
   ]
  },
  {
   "cell_type": "code",
   "execution_count": 19,
   "id": "e0840f55",
   "metadata": {},
   "outputs": [
    {
     "data": {
      "text/plain": [
       "{'language': 'Python',\n",
       " 'course': 'Data Science Masters',\n",
       " 'topics': ['Python', 'Machine Learning', 'Deep Learning']}"
      ]
     },
     "execution_count": 19,
     "metadata": {},
     "output_type": "execute_result"
    }
   ],
   "source": [
    "dict1 = {'language' : 'Python', 'course': 'Data Science Masters'}\n",
    "\n",
    "dict1.setdefault(\"topics\", ['Python', 'Machine Learning', 'Deep Learning'])\n",
    "dict1"
   ]
  },
  {
   "cell_type": "markdown",
   "id": "0186fa7d",
   "metadata": {},
   "source": [
    "## Q8. What are the three view objects in dictionaries? Use the three in-built methods in python to display these three view objects for the given dictionary.\n",
    "\n",
    "dict1 = {'Sport': 'Cricket' , 'Teams': ['India', 'Australia', 'England', 'South Africa', 'Sri Lanka', 'New Zealand']}\n",
    "\n",
    "        The Three view object of Python dict are - keys(), values(), items()\n",
    "        "
   ]
  },
  {
   "cell_type": "code",
   "execution_count": 22,
   "id": "dcceba35",
   "metadata": {},
   "outputs": [
    {
     "name": "stdout",
     "output_type": "stream",
     "text": [
      "Sport - Cricket\n",
      "Teams - ['India', 'Australia', 'England', 'South Africa', 'Sri Lanka', 'New Zealand']\n"
     ]
    }
   ],
   "source": [
    "dict1 = {'Sport': 'Cricket' , 'Teams': ['India', 'Australia', 'England', 'South Africa', 'Sri Lanka', 'New Zealand']}\n",
    "\n",
    "for key in dict1.keys():\n",
    "    print(key, \"-\", dict1[key])"
   ]
  },
  {
   "cell_type": "code",
   "execution_count": 23,
   "id": "bbb0c958",
   "metadata": {},
   "outputs": [
    {
     "data": {
      "text/plain": [
       "dict_values(['Cricket', ['India', 'Australia', 'England', 'South Africa', 'Sri Lanka', 'New Zealand']])"
      ]
     },
     "execution_count": 23,
     "metadata": {},
     "output_type": "execute_result"
    }
   ],
   "source": [
    "dict1.values()"
   ]
  },
  {
   "cell_type": "code",
   "execution_count": 24,
   "id": "8150f9b4",
   "metadata": {},
   "outputs": [
    {
     "data": {
      "text/plain": [
       "dict_items([('Sport', 'Cricket'), ('Teams', ['India', 'Australia', 'England', 'South Africa', 'Sri Lanka', 'New Zealand'])])"
      ]
     },
     "execution_count": 24,
     "metadata": {},
     "output_type": "execute_result"
    }
   ],
   "source": [
    "dict1.items()"
   ]
  },
  {
   "cell_type": "code",
   "execution_count": null,
   "id": "c738eedc",
   "metadata": {},
   "outputs": [],
   "source": []
  }
 ],
 "metadata": {
  "kernelspec": {
   "display_name": "Python 3",
   "language": "python",
   "name": "python3"
  },
  "language_info": {
   "codemirror_mode": {
    "name": "ipython",
    "version": 3
   },
   "file_extension": ".py",
   "mimetype": "text/x-python",
   "name": "python",
   "nbconvert_exporter": "python",
   "pygments_lexer": "ipython3",
   "version": "3.8.8"
  }
 },
 "nbformat": 4,
 "nbformat_minor": 5
}
