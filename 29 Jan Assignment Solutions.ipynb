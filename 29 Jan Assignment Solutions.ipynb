{
 "cells": [
  {
   "cell_type": "markdown",
   "id": "33773c90",
   "metadata": {},
   "source": [
    "1. Who developed Python Programming Language\n",
    "        Guido Van Rossum"
   ]
  },
  {
   "cell_type": "markdown",
   "id": "b7349406",
   "metadata": {},
   "source": [
    "2.Which type of Programming does Python Support\n",
    "    \n",
    "    Object Oriented\n",
    "    Functional Programming\n",
    "    Structured Programming"
   ]
  },
  {
   "cell_type": "markdown",
   "id": "3ac85f96",
   "metadata": {},
   "source": [
    "3. Is Python case sensitive when dealing with Identifiers ?\n",
    "\n",
    "    Yes"
   ]
  },
  {
   "cell_type": "markdown",
   "id": "bc5130a1",
   "metadata": {},
   "source": [
    "4. What is correct extension of python File ?\n",
    "\n",
    "    .py, .ipynb(files generated from Jupyter notebook)."
   ]
  },
  {
   "cell_type": "markdown",
   "id": "ac1a9a65",
   "metadata": {},
   "source": [
    "5. Is Python Code compiled or Interpreted ?\n",
    "\n",
    "    Python is both Compiled and interpreted. Compilation is done internally."
   ]
  },
  {
   "cell_type": "markdown",
   "id": "f7f6002f",
   "metadata": {},
   "source": [
    "6. Name a few blocks of code used to define in Python Language.\n",
    "\n",
    "    conditional block, loops, collections, class, object etc"
   ]
  },
  {
   "cell_type": "markdown",
   "id": "948cf02c",
   "metadata": {},
   "source": [
    "7.State a character used to give single-line comments in Python\n",
    "\n",
    "    using # we can give single line comment."
   ]
  },
  {
   "cell_type": "markdown",
   "id": "abf70c86",
   "metadata": {},
   "source": [
    "8. Mention functions which can help us to find the version of Python that we are cirrently working on. \n",
    "\n",
    "    python_version(), there are many other ways like using sys module(sys.version) to get the python version"
   ]
  },
  {
   "cell_type": "code",
   "execution_count": 5,
   "id": "47f9ce53",
   "metadata": {},
   "outputs": [
    {
     "data": {
      "text/plain": [
       "'3.8.8'"
      ]
     },
     "execution_count": 5,
     "metadata": {},
     "output_type": "execute_result"
    }
   ],
   "source": [
    "import platform\n",
    "platform.python_version()"
   ]
  },
  {
   "cell_type": "markdown",
   "id": "75dcabb2",
   "metadata": {},
   "source": [
    "9.Python supports the creation of anonymous function at runtime using a construct called ?\n",
    "\n",
    "    Lambda expression"
   ]
  },
  {
   "cell_type": "markdown",
   "id": "8ac16b37",
   "metadata": {},
   "source": [
    "10. What does pip stand for ?\n",
    "\n",
    "    It stands for pip Install Package and basically a package manager in python.\n",
    "    "
   ]
  },
  {
   "cell_type": "markdown",
   "id": "0b4900be",
   "metadata": {},
   "source": [
    "11. Mention a few inbuilt function in Python\n",
    "\n",
    "    print(), type(), int(), len(), count() etc"
   ]
  },
  {
   "cell_type": "markdown",
   "id": "262d1bf8",
   "metadata": {},
   "source": [
    "12. What is the maximum possible length of an identifier in Python ?\n",
    "\n",
    "    79 character"
   ]
  },
  {
   "cell_type": "markdown",
   "id": "1150af33",
   "metadata": {},
   "source": [
    "13. What are benefits of using Python\n",
    "\n",
    "    easy to learn\n",
    "    \n",
    "    readable syntax\n",
    "    \n",
    "    dynamically typed\n",
    "    \n",
    "    enriched library\n",
    "    \n",
    "    portability\n",
    "    "
   ]
  },
  {
   "cell_type": "markdown",
   "id": "ec5b0dec",
   "metadata": {},
   "source": [
    "14. How is memory managed in Python ?\n",
    "\n",
    "    Python has inbuilt Garbage collector which help in managing the memory efficiently."
   ]
  },
  {
   "cell_type": "markdown",
   "id": "222b9305",
   "metadata": {},
   "source": [
    "15.How to install python on Windows and set path Variable?\n",
    "\n",
    "    Download the binaries\n",
    "    \n",
    "    Run the Executable installer\n",
    "    \n",
    "    Add Python to PATH environmental variables\n",
    "    \n",
    "    To set Path :-\n",
    "        \n",
    "                     go to \"System Properties” window, click on the “Advanced” tab and then click on the \n",
    "                     “Environment Variables” button. Locate the Python installation directory on your system.\n",
    "                     Append the bin package location to the Path."
   ]
  },
  {
   "cell_type": "markdown",
   "id": "37b31f2f",
   "metadata": {},
   "source": [
    "16. Is Indentation required in Python ?\n",
    "\n",
    "    Yes."
   ]
  },
  {
   "cell_type": "code",
   "execution_count": null,
   "id": "a0d1aeae",
   "metadata": {},
   "outputs": [],
   "source": []
  }
 ],
 "metadata": {
  "kernelspec": {
   "display_name": "Python 3",
   "language": "python",
   "name": "python3"
  },
  "language_info": {
   "codemirror_mode": {
    "name": "ipython",
    "version": 3
   },
   "file_extension": ".py",
   "mimetype": "text/x-python",
   "name": "python",
   "nbconvert_exporter": "python",
   "pygments_lexer": "ipython3",
   "version": "3.8.8"
  }
 },
 "nbformat": 4,
 "nbformat_minor": 5
}
