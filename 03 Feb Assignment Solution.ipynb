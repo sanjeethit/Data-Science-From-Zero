{
 "cells": [
  {
   "cell_type": "markdown",
   "id": "616f4a87",
   "metadata": {},
   "source": [
    "## Q1. Which keyword is used to create a function? Create a function to return a list of odd numbers in the range of 1 to 25\n",
    "\n",
    "        def keyword is used to create a function in python"
   ]
  },
  {
   "cell_type": "code",
   "execution_count": 3,
   "id": "fc9aa7e1",
   "metadata": {},
   "outputs": [],
   "source": [
    "def odd(start, end):\n",
    "    \n",
    "    return [i for i in range(start, end) if i%2 != 0]\n",
    "        "
   ]
  },
  {
   "cell_type": "code",
   "execution_count": 4,
   "id": "f3afabd6",
   "metadata": {},
   "outputs": [
    {
     "data": {
      "text/plain": [
       "[1, 3, 5, 7, 9, 11, 13, 15, 17, 19, 21, 23]"
      ]
     },
     "execution_count": 4,
     "metadata": {},
     "output_type": "execute_result"
    }
   ],
   "source": [
    "odd(1, 25)"
   ]
  },
  {
   "cell_type": "markdown",
   "id": "72ae2c05",
   "metadata": {},
   "source": [
    "## Q2. Why *args and **kwargs is used in some functions? Create a function each for *args and **kwargs to demonstrate their use.\n",
    "\n",
    "        *args and **kwargs are the variable length arguements which provides flexibility to a function.\n",
    "        *args used for variable length non-keyword argument\n",
    "        **kwargs used for variable length key word argument"
   ]
  },
  {
   "cell_type": "code",
   "execution_count": 5,
   "id": "c84464ab",
   "metadata": {},
   "outputs": [],
   "source": [
    "def args_demo(*args):\n",
    "    print(\"This is *args demo which takes input as tuple\", args)\n",
    "    print(type(args))\n",
    "    print(len(args))\n",
    "    \n",
    "    #add items in args and return sum\n",
    "    sm = 0\n",
    "    for i in args:\n",
    "        if type(i) == int:\n",
    "            sm += i\n",
    "    return sm\n",
    "    "
   ]
  },
  {
   "cell_type": "code",
   "execution_count": 6,
   "id": "d878cca7",
   "metadata": {},
   "outputs": [
    {
     "name": "stdout",
     "output_type": "stream",
     "text": [
      "This is *args demo which takes input as tuple (1, 2, 3, 'hello')\n",
      "<class 'tuple'>\n",
      "4\n"
     ]
    },
    {
     "data": {
      "text/plain": [
       "6"
      ]
     },
     "execution_count": 6,
     "metadata": {},
     "output_type": "execute_result"
    }
   ],
   "source": [
    "args_demo(1,2,3,\"hello\")"
   ]
  },
  {
   "cell_type": "code",
   "execution_count": 7,
   "id": "9a92b2e7",
   "metadata": {},
   "outputs": [],
   "source": [
    "def kwargs_demo(**kwargs):\n",
    "    print(type(kwargs))\n",
    "    \n",
    "    for key in kwargs.keys():\n",
    "        print(key, \" - \", kwargs[key])"
   ]
  },
  {
   "cell_type": "code",
   "execution_count": 8,
   "id": "9d331f89",
   "metadata": {},
   "outputs": [
    {
     "name": "stdout",
     "output_type": "stream",
     "text": [
      "<class 'dict'>\n",
      "key1  -  value1\n",
      "key2  -  value2\n"
     ]
    }
   ],
   "source": [
    "kwargs_demo(key1 = \"value1\", key2 = \"value2\")"
   ]
  },
  {
   "cell_type": "markdown",
   "id": "3028cf38",
   "metadata": {},
   "source": [
    "## Q3.  What is an iterator in python? Name the method used to initialise the iterator object and the method used for iteration. Use these methods to print the first five elements of the given list [2, 4, 6, 8, 10, 12, 14, 16, 18, 20]\n",
    "\n",
    "        Iterator is an Object which is bascially used to iterate over collections like list, tuple etc.\n",
    "        The Iterator can be initialized using iter() method.\n",
    "        To iterate using Itertor, next() method is used."
   ]
  },
  {
   "cell_type": "code",
   "execution_count": 9,
   "id": "68de252e",
   "metadata": {},
   "outputs": [
    {
     "name": "stdout",
     "output_type": "stream",
     "text": [
      "2\n",
      "4\n",
      "6\n",
      "8\n",
      "10\n"
     ]
    }
   ],
   "source": [
    "nums = [2, 4, 6, 8, 10, 12, 14, 16, 18, 20]\n",
    "nums_iter = iter(nums)\n",
    "\n",
    "for i in range(5):\n",
    "    print(next(nums_iter))"
   ]
  },
  {
   "cell_type": "markdown",
   "id": "8c442bbb",
   "metadata": {},
   "source": [
    "## Q4.  What is a generator function in python? Why yield keyword is used? Give an example of a generator function\n",
    "\n",
    "    A function which generates the value on the fly without storing all the value at once is nothing but a generator \n",
    "    function.\n",
    "    \n",
    "    yield keyword is used to make a normal function as generator function which basically stop the function's execution \n",
    "    and return the value to caller and retain enough info for next item generation.\n",
    "    "
   ]
  },
  {
   "cell_type": "code",
   "execution_count": 24,
   "id": "b367ceed",
   "metadata": {},
   "outputs": [],
   "source": [
    "#create a generator which return the specified range value\n",
    "#inp - String \"4-10\"\n",
    "#op - a list of range value i,e. [4,5,6,7,8,9]\n",
    "def range_gen(inp):\n",
    "    \n",
    "    inp = list(map(int, inp.split(\"-\")))\n",
    "    for x in range(inp[0], inp[1]): \n",
    "        yield x "
   ]
  },
  {
   "cell_type": "code",
   "execution_count": 25,
   "id": "1612bfbd",
   "metadata": {},
   "outputs": [
    {
     "data": {
      "text/plain": [
       "[4, 5, 6, 7, 8, 9]"
      ]
     },
     "execution_count": 25,
     "metadata": {},
     "output_type": "execute_result"
    }
   ],
   "source": [
    "list(range_gen(\"4-10\"))"
   ]
  },
  {
   "cell_type": "markdown",
   "id": "52aaabc1",
   "metadata": {},
   "source": [
    "## Q5. Create a generator function for prime numbers less than 1000. Use the next() method to print the first 20 prime numbers"
   ]
  },
  {
   "cell_type": "code",
   "execution_count": 26,
   "id": "ceb10eb4",
   "metadata": {},
   "outputs": [],
   "source": [
    "def prime_num_generator(end):\n",
    "    \n",
    "    for i in range(2, end):\n",
    "        isPrime = True\n",
    "        for j in range(2,i):\n",
    "            \n",
    "            if i%j == 0:\n",
    "                isPrime = False\n",
    "                break\n",
    "        if isPrime:\n",
    "            yield i    "
   ]
  },
  {
   "cell_type": "code",
   "execution_count": 29,
   "id": "8287e0fb",
   "metadata": {},
   "outputs": [],
   "source": [
    "series = prime_num_generator(1000)"
   ]
  },
  {
   "cell_type": "code",
   "execution_count": 30,
   "id": "f6ac99d3",
   "metadata": {},
   "outputs": [
    {
     "name": "stdout",
     "output_type": "stream",
     "text": [
      "2\n",
      "3\n",
      "5\n",
      "7\n",
      "11\n",
      "13\n",
      "17\n",
      "19\n",
      "23\n",
      "29\n",
      "31\n",
      "37\n",
      "41\n",
      "43\n",
      "47\n",
      "53\n",
      "59\n",
      "61\n",
      "67\n",
      "71\n"
     ]
    }
   ],
   "source": [
    "for i in range(20):\n",
    "    print(next(series))"
   ]
  },
  {
   "cell_type": "code",
   "execution_count": null,
   "id": "4cfac9e3",
   "metadata": {},
   "outputs": [],
   "source": []
  }
 ],
 "metadata": {
  "kernelspec": {
   "display_name": "Python 3",
   "language": "python",
   "name": "python3"
  },
  "language_info": {
   "codemirror_mode": {
    "name": "ipython",
    "version": 3
   },
   "file_extension": ".py",
   "mimetype": "text/x-python",
   "name": "python",
   "nbconvert_exporter": "python",
   "pygments_lexer": "ipython3",
   "version": "3.8.8"
  }
 },
 "nbformat": 4,
 "nbformat_minor": 5
}
